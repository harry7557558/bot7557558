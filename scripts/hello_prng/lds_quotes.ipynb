{
 "cells": [
  {
   "cell_type": "markdown",
   "metadata": {},
   "source": [
    "The site homepage's quotes and the bot's `.hello` look sus. Let me check it."
   ]
  },
  {
   "cell_type": "code",
   "execution_count": 1,
   "metadata": {},
   "outputs": [
    {
     "name": "stdout",
     "output_type": "stream",
     "text": [
      "https://harry7557558.github.io/src/quotes.json - 200\n"
     ]
    }
   ],
   "source": [
    "import sys\n",
    "sys.path.append('../../')\n",
    "import hello\n",
    "\n",
    "objects = hello.get_site_objects(\"https://harry7557558.github.io/src/quotes.json\")"
   ]
  },
  {
   "cell_type": "markdown",
   "metadata": {},
   "source": [
    "Generate random quotes in a row."
   ]
  },
  {
   "cell_type": "code",
   "execution_count": 2,
   "metadata": {},
   "outputs": [],
   "source": [
    "def rand_quote_index():\n",
    "    rnd = hello.quasi_random()\n",
    "    s = 0.0\n",
    "    for i in range(len(objects)):\n",
    "        s += objects[i]['probability']\n",
    "        if s > rnd:\n",
    "            return i\n",
    "    assert False\n",
    "\n",
    "qis = [rand_quote_index() for _ in range(10000)]\n"
   ]
  },
  {
   "cell_type": "markdown",
   "metadata": {},
   "source": [
    "Generate and plot the matrix - there is a pattern?"
   ]
  },
  {
   "cell_type": "code",
   "execution_count": 3,
   "metadata": {},
   "outputs": [],
   "source": [
    "import numpy as np\n",
    "\n",
    "offset = 1\n",
    "mat = np.zeros((len(objects), len(objects)), dtype=np.int32)\n",
    "for p in zip(qis[:-offset], qis[offset:]):\n",
    "    mat[p[0]][p[1]] += 1"
   ]
  },
  {
   "cell_type": "code",
   "execution_count": 4,
   "metadata": {},
   "outputs": [
    {
     "data": {
      "image/png": "[encoded data removed]",
      "text/plain": [
       "<Figure size 480x480 with 2 Axes>"
      ]
     },
     "metadata": {},
     "output_type": "display_data"
    }
   ],
   "source": [
    "import matplotlib.pyplot as plt\n",
    "plt.matshow(mat)\n",
    "plt.xlabel(\"first quote\")\n",
    "plt.ylabel(\"second quote\")\n",
    "plt.colorbar()\n",
    "plt.show()"
   ]
  },
  {
   "cell_type": "markdown",
   "metadata": {},
   "source": [
    "If the bot/site shows the first quote it is guaranteed to show the second one next."
   ]
  },
  {
   "cell_type": "code",
   "execution_count": 5,
   "metadata": {},
   "outputs": [
    {
     "name": "stdout",
     "output_type": "stream",
     "text": [
      "48\n",
      "11 38\n",
      "First quote: {'text': 'Don’t jump into hot water.', 'probability': 0.01904761904761905, 'alt': None, 'psa': -1.0}\n",
      "Second quote: {'text': 'Just stay away and you’ll be safe from me! -&nbsp;Queen Elsa from <i>Frozen</i>', 'probability': 0.047368421052631574, 'alt': None, 'psa': -1.0}\n",
      "16 42\n",
      "First quote: {'text': 'To live in the Nacirema world, you must become a Nacirema.', 'probability': 0.010000000000000002, 'alt': None, 'psa': -1.0}\n",
      "Second quote: {'text': 'See the line where the sky meets the sea? It calls me. -&nbsp;Moana, <i>How&nbsp;Far&nbsp;I’ll&nbsp;Go</i>', 'probability': 0.015789473684210523, 'alt': None, 'psa': -1.0}\n",
      "21 8\n",
      "First quote: {'text': 'A = {x | x ∉ A}', 'probability': 0.015384615384615385, 'alt': None, 'psa': -1.0}\n",
      "Second quote: {'text': 'Would you rather be able to fly, or have the ability to live in water?', 'probability': 0.0380952380952381, 'alt': None, 'psa': -1.0}\n",
      "30 17\n",
      "First quote: {'text': 'To-do List', 'probability': 0.015384615384615385, 'alt': None, 'psa': -1.0}\n",
      "Second quote: {'text': 'If there were an alien civilization, would their society be as strange as ours?', 'probability': 0.03, 'alt': None, 'psa': -1.0}\n",
      "33 20\n",
      "First quote: {'text': 'All that time never even knowing, Just how blind I’ve been. -&nbsp;Rapunzel, <i>I&nbsp;See&nbsp;the&nbsp;Light</i>', 'probability': 0.015789473684210523, 'alt': None, 'psa': -1.0}\n",
      "Second quote: {'text': 'Did things go crazy first, or did I go crazy first?', 'probability': 0.020000000000000004, 'alt': None, 'psa': -1.0}\n",
      "36 4\n",
      "First quote: {'text': 'Don’t let them in, don’t let them see. -&nbsp;Elsa, <i>Frozen</i>', 'probability': 0.015789473684210523, 'alt': None, 'psa': -1.0}\n",
      "Second quote: {'text': 'I am both aggressive and passive, with both arrogance and inferiority.', 'probability': 0.01904761904761905, 'alt': None, 'psa': -1.0}\n",
      "39 8\n",
      "First quote: {'text': '“Sometimes, who we wish we were, what we wish we could do… It’s just not meant to be.” -&nbsp;Sina, <i>Moana</i>', 'probability': 0.015789473684210523, 'alt': None, 'psa': -1.0}\n",
      "Second quote: {'text': 'Would you rather be able to fly, or have the ability to live in water?', 'probability': 0.0380952380952381, 'alt': None, 'psa': -1.0}\n",
      "41 1\n",
      "First quote: {'text': 'To the place I know where I cannot go, where I long to be. -&nbsp;Moana, <i>How&nbsp;Far&nbsp;I’ll&nbsp;Go</i>', 'probability': 0.015789473684210523, 'alt': None, 'psa': -1.0}\n",
      "Second quote: {'text': 'I wish I could be a child forever.', 'probability': 0.0380952380952381, 'alt': None, 'psa': -1.0}\n",
      "47 0\n",
      "First quote: {'text': 'Some look for trouble, while others don’t. -&nbsp;Elsa, <i>Frozen&nbsp;II</i>', 'probability': 0.015789473684210523, 'alt': None, 'psa': -1.0}\n",
      "Second quote: {'text': 'Sometimes I dream of becoming a fairy, or a mermaid… or some sort of creature.', 'probability': 0.05714285714285714, 'alt': None, 'psa': -1.0}\n"
     ]
    }
   ],
   "source": [
    "print(len(objects))\n",
    "for i in range(len(objects)):\n",
    "    ps = mat[i]\n",
    "    if np.count_nonzero(ps) == 1:\n",
    "        j = np.where(ps != 0)[0][0]\n",
    "        print(i, j)\n",
    "        print(\"First quote:\", objects[i])\n",
    "        print(\"Second quote:\", objects[j])"
   ]
  }
 ],
 "metadata": {
  "kernelspec": {
   "display_name": "Python 3.9.1 64-bit",
   "language": "python",
   "name": "python3"
  },
  "language_info": {
   "codemirror_mode": {
    "name": "ipython",
    "version": 3
   },
   "file_extension": ".py",
   "mimetype": "text/x-python",
   "name": "python",
   "nbconvert_exporter": "python",
   "pygments_lexer": "ipython3",
   "version": "3.9.1"
  },
  "orig_nbformat": 4,
  "vscode": {
   "interpreter": {
    "hash": "ecbc50d119a157bb487b95c6f0c652477a8946cf907138d6308c321abbbf8dc7"
   }
  }
 },
 "nbformat": 4,
 "nbformat_minor": 2
}
